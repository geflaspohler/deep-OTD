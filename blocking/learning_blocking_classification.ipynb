{
 "cells": [
  {
   "cell_type": "code",
   "execution_count": 17,
   "metadata": {},
   "outputs": [],
   "source": [
    "# Data proessing imports\n",
    "import h5py\n",
    "import numpy as np\n",
    "import os\n",
    "import pdb\n",
    "import matplotlib.pyplot as plt\n",
    "from mpl_toolkits.mplot3d import Axes3D \n",
    "import time\n",
    "import pickle"
   ]
  },
  {
   "cell_type": "code",
   "execution_count": 20,
   "metadata": {},
   "outputs": [],
   "source": [
    "# Torch Imports\n",
    "import torch\n",
    "import numpy as np\n",
    "from torchvision import datasets\n",
    "import torchvision.transforms as transforms\n",
    "from skimage import io, transform\n",
    "from torch.utils.data import Dataset, DataLoader\n",
    "import torch.nn as nn\n",
    "import torch.nn.functional as F"
   ]
  },
  {
   "cell_type": "code",
   "execution_count": 4,
   "metadata": {},
   "outputs": [],
   "source": [
    "# Set up output directories \n",
    "model_dir = '/Users/quetzal/Documents/code/deep-OTD/blocking/blocking_models'\n",
    "data_dir = '/Users/quetzal/Documents/code/blocking_project'\n",
    "figure_dir = '/Users/quetzal/Documents/code/deep-OTD/blocking/blocking_figures'\n",
    "\n",
    "\n",
    "if not os.path.exists(model_dir):\n",
    "    os.mkdir(model_dir)\n",
    "if not os.path.exists(data_dir):\n",
    "    os.mkdir(data_dir)    \n",
    "if not os.path.exists(figure_dir):\n",
    "    os.mkdir(figure_dir)        "
   ]
  },
  {
   "cell_type": "code",
   "execution_count": 5,
   "metadata": {},
   "outputs": [
    {
     "name": "stdout",
     "output_type": "stream",
     "text": [
      "Data shape: (7079, 43, 127)\n",
      "Loading file for day 1 from Z_5day_day1_20190730.mat\n",
      "Loading file for day 2 from Z_5day_day2_20190730.mat\n",
      "Loading file for day 3 from Z_5day_day3_20190730.mat\n",
      "Loading file for day 4 from Z_5day_day4_20190730.mat\n",
      "Loading file for day 5 from Z_5day_day5_20190730.mat\n",
      "Loading file for day 6 from Z_5day_day6_20190730.mat\n",
      "Loading file for day 7 from Z_5day_day7_20190730.mat\n",
      "Loading file for day 8 from Z_5day_day8_20190730.mat\n",
      "Loading file for day 9 from Z_5day_day9_20190730.mat\n",
      "Loading file for day 10 from Z_5day_day10_20190730.mat\n",
      "Loading file for day 11 from Z_5day_day11_20190730.mat\n",
      "Loading file for day 12 from Z_5day_day12_20190730.mat\n",
      "Loading file for day 13 from Z_5day_day13_20190730.mat\n",
      "Loading file for day 14 from Z_5day_day14_20190730.mat\n",
      "Loading file for day 15 from Z_5day_day15_20190730.mat\n",
      "Loading file for day 16 from Z_5day_day16_20190730.mat\n",
      "Loading file for day 17 from Z_5day_day17_20190730.mat\n",
      "Loading file for day 18 from Z_5day_day18_20190730.mat\n",
      "Loading file for day 19 from Z_5day_day19_20190730.mat\n",
      "Loading file for day 20 from Z_5day_day20_20190730.mat\n",
      "Loading file for day 21 from Z_5day_day21_20190730.mat\n",
      "Loading file for day 22 from Z_5day_day22_20190730.mat\n",
      "Loading file for day 23 from Z_5day_day23_20190730.mat\n",
      "Loading file for day 24 from Z_5day_day24_20190730.mat\n",
      "Loading file for day 25 from Z_5day_day25_20190730.mat\n",
      "Loading file for day 26 from Z_5day_day26_20190730.mat\n",
      "Loading file for day 27 from Z_5day_day27_20190730.mat\n",
      "Loading file for day 28 from Z_5day_day28_20190730.mat\n",
      "Loading file for day 29 from Z_5day_day29_20190730.mat\n",
      "Loading file for day 30 from Z_5day_day30_20190730.mat\n",
      "Loading file for day 31 from Z_5day_day31_20190730.mat\n",
      "Loading file for day 32 from Z_5day_day32_20190730.mat\n",
      "Loading file for day 33 from Z_5day_day33_20190730.mat\n",
      "Loading file for day 34 from Z_5day_day34_20190730.mat\n",
      "Loading file for day 35 from Z_5day_day35_20190730.mat\n",
      "Loading file for day 36 from Z_5day_day36_20190730.mat\n",
      "Loading file for day 37 from Z_5day_day37_20190730.mat\n",
      "Loading file for day 38 from Z_5day_day38_20190730.mat\n",
      "Loading file for day 39 from Z_5day_day39_20190730.mat\n",
      "Loading file for day 40 from Z_5day_day40_20190730.mat\n"
     ]
    }
   ],
   "source": [
    "# Read in all 40 days of experimental data into a single 4D tensor\n",
    "exp_days = 40\n",
    "\n",
    "# Get the metadata (e.g., lat, long) from a single example data file\n",
    "temp_day = 1\n",
    "temp_filename = 'Z_5day_day' + str(temp_day) + '_20190730.mat'\n",
    "meta_data = h5py.File(os.path.join(data_dir, temp_filename), 'r')\n",
    "data_shape = np.array(meta_data['Zluck']).shape\n",
    "print(\"Data shape:\", data_shape)\n",
    "\n",
    "# # Construct the 40 x 127 x 43 x 7079 data file, corresponding to day, lat,\n",
    "# # lon, trail_no values, of top-layer quasigeostrophic potential vorticity\n",
    "exp_data = np.zeros((exp_days, data_shape[0], data_shape[1], data_shape[2]));\n",
    "for day in range(1, exp_days+1):\n",
    "    filename = 'Z_5day_day' + str(day) + '_20190730.mat'\n",
    "    print('Loading file for day ' + str(day), \"from\", filename)\n",
    "    data = h5py.File(os.path.join(data_dir, filename), 'r');\n",
    "    exp_data[day-1, :, :, :] = data['Zluck']; "
   ]
  },
  {
   "cell_type": "code",
   "execution_count": 6,
   "metadata": {},
   "outputs": [],
   "source": [
    "# Relevent constants\n",
    "NUM_DAYS = exp_data.shape[0]\n",
    "NUM_TRIALS = exp_data.shape[1]\n",
    "NUM_LAT = exp_data.shape[2]\n",
    "NUM_LON = exp_data.shape[3]\n",
    "\n",
    "# Find the mean and std of data for normalization\n",
    "data_mean = np.mean(exp_data, axis=None)\n",
    "data_std = np.std(exp_data, axis=None)\n",
    "\n",
    "# Truncate latitude and longitude data; convoluation layers behave badly with origonal 43 x 127 dimensions\n",
    "LAT_TRUNC = 40\n",
    "LON_TRUNC = 124\n",
    "lon = meta_data['lon0'][0:LON_TRUNC]\n",
    "lat = meta_data['lon0'][0:LAT_TRUNC]\n",
    "lon_cord, lat_cord = np.meshgrid(lon, lat); "
   ]
  },
  {
   "cell_type": "code",
   "execution_count": 7,
   "metadata": {},
   "outputs": [],
   "source": [
    "class BlockingDataset(Dataset):\n",
    "    \"\"\" Custom dataset class for reading in the blocking data\n",
    "\n",
    "    Args:\n",
    "        data (np.array): the exp_data array, which should have be a 4D numpy tensor \n",
    "            containing DAY x TRAIL x LAT x LON\n",
    "    \"\"\"\n",
    "    def __init__(self, data, DAY_BK=20, DAY_BF=0, DAY_AF=5, DAY_PRED=3, transform=None):\n",
    "        self.DAY_BK = DAY_BK\n",
    "        self.DAY_BF = DAY_BF\n",
    "        self.DAY_AF = DAY_AF\n",
    "        self.DAY_PRED = DAY_PRED\n",
    "        \n",
    "        self.data = data\n",
    "        \n",
    "#         self.cur_state, self.prev_state, self.next_state, self.block_status = self.split_data_labels_timeseries(data)\n",
    "        \n",
    "        self.transform = transform\n",
    "    \n",
    "\n",
    "    def __getitem__(self, index):\n",
    "        \n",
    "        cur = self.data[index]\n",
    "        nxt = self.next_state[index]\n",
    "        dif = (self.next_state[index] - self.cur_state[index])\n",
    "        bks = self.block_status[index]\n",
    "        \n",
    "        sample = {'cur_state': cur, 'next_state': nxt, 'diff': dif, 'bs': bks}\n",
    "\n",
    "        # Apply relevent transformations\n",
    "        if self.transform:\n",
    "            sample = self.transform(sample)\n",
    "        return sample\n",
    "    \n",
    "    def __len__(self):\n",
    "        return self.data.shape[0]-1-self.DAY_PRED # Can only get \"next\" and \"prev\" timsteps for data[self.DAY_PRED:-1]\n",
    "    \n",
    "    def split_data_labels_timeseries(self, data):\n",
    "        \"\"\" Splits data into \"current timestep\" and \"next timestep\" training pairs, where\n",
    "                every other sample is added to either the current or next array\n",
    "\n",
    "        Args:\n",
    "            data (np.array): the exp_data array, which should have be a 4D numpy tensor \n",
    "                containing DAY x TRAIL x LAT x LON\n",
    "        \"\"\"        \n",
    "        duration = data.shape[0]\n",
    "        num_trials = data.shape[1]\n",
    "        \n",
    "        cur_data = np.zeros(((duration-1)*num_trials, data.shape[2], data.shape[3]))\n",
    "        next_data = np.zeros(((duration-1)*num_trials, data.shape[2], data.shape[3]))\n",
    "        next_data = np.zeros(((duration-1)*num_trials, data.shape[2], data.shape[3]))\n",
    "        block_status = np.zeros((duration // 2 * num_trials,))\n",
    "\n",
    "        i = 0                      \n",
    "        for trial in range(num_trials):\n",
    "            for day in range(0, duration, 2): # Increase days by 2\n",
    "                cur_data[i, :, :] = data[day, trial, :, :]\n",
    "                next_data[i, :, :] = data[day+1, trial, :, :]\n",
    "                if day < self.DAY_BK - self.DAY_BF or day > self.DAY_BK + self.DAY_AF:\n",
    "                    block_status[i] = False\n",
    "                else:\n",
    "                    block_status[i] = True\n",
    "                i += 1\n",
    "\n",
    "        return cur_data, next_data, block_status"
   ]
  },
  {
   "cell_type": "code",
   "execution_count": 11,
   "metadata": {},
   "outputs": [],
   "source": [
    "# Define data transformations\n",
    "\n",
    "class Rescale(object):\n",
    "    \"\"\"Rescale the image in a sample to a given size.\n",
    "\n",
    "    Args:\n",
    "        output_size (tuple or int): Desired output size. If tuple, output is\n",
    "            matched to output_size. If int, smaller of image edges is matched\n",
    "            to output_size keeping aspect ratio the same.\n",
    "    \"\"\"\n",
    "\n",
    "    def __init__(self, output_size):\n",
    "        assert isinstance(output_size, (tuple))\n",
    "        self.output_size = output_size\n",
    "\n",
    "    def __call__(self, sample):\n",
    "        cur_state, next_state, diff, bs = sample['cur_state'], sample['next_state'], sample['diff'], sample['bs']\n",
    "\n",
    "        new_h, new_w = self.output_size\n",
    "        new_h, new_w = int(new_h), int(new_w)\n",
    "\n",
    "        cs = transform.resize(cur_state, (new_h, new_w))\n",
    "        ns = transform.resize(next_state, (new_h, new_w))\n",
    "        df = transform.resize(diff, (new_h, new_w))\n",
    "\n",
    "        return {'cur_state': cs, 'next_state': ns, 'diff': df, 'bs': bs}\n",
    "    \n",
    "class AddDummyDim(object):\n",
    "    \"\"\" Adds a dummy dimension, so that each example is a 3D tensor, with dimensions (1, *, *)\n",
    "             For compatiablity with pytorch convoluation.\n",
    "    \"\"\"\n",
    "    def __init__(self):\n",
    "        pass\n",
    "\n",
    "    def __call__(self, sample):\n",
    "        cur_state, next_state, diff, bs = sample['cur_state'], sample['next_state'], sample['diff'], sample['bs']\n",
    "        \n",
    "        cur_state = cur_state.reshape(1, cur_state.shape[0], cur_state.shape[1]) \n",
    "        next_state = next_state.reshape(1, next_state.shape[0], next_state.shape[1]) \n",
    "        diff = diff.reshape(1, diff.shape[0], diff.shape[1]) \n",
    "\n",
    "        return {'cur_state': cur_state, 'next_state': next_state, 'diff': diff, 'bs': bs}\n",
    "    \n",
    "class Normalize(object):\n",
    "    \"\"\"Normalize an QGPV field to zero mean, unit variance.\n",
    "\n",
    "    Args:\n",
    "        mean (float or double): dataset mean\n",
    "        std (float or double): dataset standard deviation\n",
    "    \"\"\"\n",
    "    def __init__(self, mean, std):\n",
    "        self.mean = mean\n",
    "        self.std = std\n",
    "\n",
    "    def __call__(self, sample):\n",
    "        cur_state, next_state, diff, bs = sample['cur_state'], sample['next_state'], sample['diff'], sample['bs']\n",
    "        \n",
    "        cur_state = (cur_state - self.mean) / self.std\n",
    "        next_state = (next_state - self.mean) / self.std \n",
    "        diff = next_state - cur_state\n",
    "\n",
    "        return {'cur_state': cur_state, 'next_state': next_state, 'diff': diff, 'bs': bs}\n",
    "    "
   ]
  },
  {
   "cell_type": "code",
   "execution_count": 12,
   "metadata": {},
   "outputs": [],
   "source": [
    "NUM_TRIALS = 500\n",
    "\n",
    "# Compose relevent data transformations: normalize -> rescale -> add dummy dim\n",
    "trans = transforms.Compose([Normalize(data_mean, data_std), Rescale((40, 124)), AddDummyDim()])\n",
    "\n",
    "# Create training and testing datasets, each with a fraction of the origonal data \n",
    "blocking_dataset_train = BlockingDataset(data=exp_data[:, 0:NUM_TRIALS//2, :, :], transform=trans)\n",
    "blocking_dataset_test = BlockingDataset(data=exp_data[:, NUM_TRIALS//2:NUM_TRIALS//2 + NUM_TRIALS//2, :, :], transform=trans) # TODO modify to take the rest of the dataset"
   ]
  },
  {
   "cell_type": "code",
   "execution_count": 13,
   "metadata": {},
   "outputs": [],
   "source": [
    "# Create training and testing dataloaders\n",
    "num_workers = 0\n",
    "batch_size = 5\n",
    "dataloader_train = torch.utils.data.DataLoader(blocking_dataset_train, shuffle=True, batch_size=batch_size, num_workers=num_workers)\n",
    "dataloader_test = torch.utils.data.DataLoader(blocking_dataset_test, shuffle=True, batch_size=batch_size, num_workers=num_workers)"
   ]
  },
  {
   "cell_type": "code",
   "execution_count": 14,
   "metadata": {},
   "outputs": [],
   "source": [
    "from matplotlib import colors\n",
    "\n",
    "def show_blocking_batch(sample_batched):\n",
    "    \"\"\"Visualize a batch of data\n",
    "\n",
    "    Args:\n",
    "        sample_batched (torch.tensor): a batched data example, dimension BATCHSIZE x LAT X LON\n",
    "    \"\"\"    \n",
    "    # Unpack and squeeze to remove dummy dimension \n",
    "    cur_state_batch, next_state_batch, diff_batch = \\\n",
    "            np.squeeze(sample_batched['cur_state']), \\\n",
    "            np.squeeze(sample_batched['next_state']), \\\n",
    "            np.squeeze(sample_batched['diff'])\n",
    "            \n",
    "    batch_size = len(cur_state_batch)\n",
    "    \n",
    "    # Find max and min diff values, for consitant visualization \n",
    "    diff_min = np.min(diff_batch.numpy(), axis=None)\n",
    "    diff_max = np.max(diff_batch.numpy(), axis=None)\n",
    "\n",
    "    # Plotting \n",
    "    for i in range(batch_size):\n",
    "        ax1 = plt.subplot(3, batch_size, i+1)\n",
    "        ax2 = plt.subplot(3, batch_size, i+1+batch_size)\n",
    "        ax3 = plt.subplot(3, batch_size, i+1+2*batch_size)\n",
    "\n",
    "        plt.tight_layout()\n",
    "        \n",
    "        ax1.axis('off')\n",
    "        ax2.axis('off')\n",
    "        ax3.axis('off')\n",
    "\n",
    "        s = ax1.contourf(lon_cord, lat_cord, cur_state_batch[i, :, :], cmap=plt.cm.viridis)\n",
    "        s = ax2.contourf(lon_cord, lat_cord, next_state_batch[i, :, :], cmap=plt.cm.viridis)\n",
    "        s = ax3.contourf(lon_cord, lat_cord, diff_batch[i, :, :], cmap=plt.cm.bwr, vmin=diff_min, vmax=diff_max)\n",
    "\n",
    "    plt.show()\n",
    "    plt.close()"
   ]
  },
  {
   "cell_type": "code",
   "execution_count": 15,
   "metadata": {
    "scrolled": false
   },
   "outputs": [
    {
     "name": "stdout",
     "output_type": "stream",
     "text": [
      "0 torch.Size([5, 1, 40, 124]) torch.Size([5, 1, 40, 124])\n"
     ]
    },
    {
     "data": {
      "image/png": "[encoded data removed]",
      "text/plain": [
       "<Figure size 432x288 with 15 Axes>"
      ]
     },
     "metadata": {
      "needs_background": "light"
     },
     "output_type": "display_data"
    },
    {
     "name": "stdout",
     "output_type": "stream",
     "text": [
      "1 torch.Size([5, 1, 40, 124]) torch.Size([5, 1, 40, 124])\n"
     ]
    },
    {
     "data": {
      "image/png": "[encoded data removed]",
      "text/plain": [
       "<Figure size 432x288 with 15 Axes>"
      ]
     },
     "metadata": {
      "needs_background": "light"
     },
     "output_type": "display_data"
    },
    {
     "name": "stdout",
     "output_type": "stream",
     "text": [
      "2 torch.Size([5, 1, 40, 124]) torch.Size([5, 1, 40, 124])\n"
     ]
    },
    {
     "data": {
      "image/png": "[encoded data removed]",
      "text/plain": [
       "<Figure size 432x288 with 15 Axes>"
      ]
     },
     "metadata": {
      "needs_background": "light"
     },
     "output_type": "display_data"
    },
    {
     "name": "stdout",
     "output_type": "stream",
     "text": [
      "3 torch.Size([5, 1, 40, 124]) torch.Size([5, 1, 40, 124])\n"
     ]
    },
    {
     "data": {
      "image/png": "[encoded data removed]",
      "text/plain": [
       "<Figure size 432x288 with 15 Axes>"
      ]
     },
     "metadata": {
      "needs_background": "light"
     },
     "output_type": "display_data"
    }
   ],
   "source": [
    "# Plot a few batches of data\n",
    "for i_batch, sample_batched in enumerate(dataloader_train):\n",
    "    print(i_batch, sample_batched['cur_state'].size(),\n",
    "          sample_batched['next_state'].size())\n",
    "    show_blocking_batch(sample_batched)\n",
    "        \n",
    "    # Only display the first few sampled bataches\n",
    "    if i_batch > 2:\n",
    "        break"
   ]
  },
  {
   "cell_type": "code",
   "execution_count": 42,
   "metadata": {},
   "outputs": [
    {
     "name": "stdout",
     "output_type": "stream",
     "text": [
      "ConvNet(\n",
      "  (conv1): Conv2d(1, 6, kernel_size=(5, 5), stride=(1, 1))\n",
      "  (pool): MaxPool2d(kernel_size=2, stride=2, padding=0, dilation=1, ceil_mode=False)\n",
      "  (conv2): Conv2d(6, 16, kernel_size=(5, 5), stride=(1, 1))\n",
      "  (fc1): Linear(in_features=3136, out_features=120, bias=True)\n",
      "  (fc2): Linear(in_features=120, out_features=84, bias=True)\n",
      "  (fc3): Linear(in_features=84, out_features=1, bias=True)\n",
      ")\n"
     ]
    }
   ],
   "source": [
    "class ConvNet(nn.Module):\n",
    "    def __init__(self):\n",
    "        super(ConvNet, self).__init__()\n",
    "        self.conv1 = nn.Conv2d(1, 6, 5)\n",
    "        self.pool = nn.MaxPool2d(2, 2)\n",
    "        self.conv2 = nn.Conv2d(6, 16, 5)\n",
    "        self.fc1 = nn.Linear(16*7*28, 120)\n",
    "        self.fc2 = nn.Linear(120, 84)\n",
    "        self.fc3 = nn.Linear(84, 1)\n",
    "\n",
    "    def forward(self, x):\n",
    "        x = self.pool(F.relu(self.conv1(x)))\n",
    "        x = self.pool(F.relu(self.conv2(x)))\n",
    "        x = x.view(x.shape[0], -1)\n",
    "        x = F.relu(self.fc1(x))\n",
    "        x = F.relu(self.fc2(x))\n",
    "        x = F.sigmoid(self.fc3(x)) \n",
    "        return x\n",
    "    \n",
    "model = ConvNet()\n",
    "print(model)"
   ]
  },
  {
   "cell_type": "code",
   "execution_count": 43,
   "metadata": {},
   "outputs": [],
   "source": [
    "# Specify obejctive and optimizer for CNN classifier\n",
    "criterion = nn.BCELoss()\n",
    "\n",
    "# specify loss function\n",
    "optimizer = torch.optim.Adam(model.parameters(), lr=0.001)"
   ]
  },
  {
   "cell_type": "code",
   "execution_count": 56,
   "metadata": {
    "scrolled": true
   },
   "outputs": [
    {
     "name": "stdout",
     "output_type": "stream",
     "text": [
      "Epoch: 1 \tTraining Loss: 0.6143482283 \tValidation Loss: 2.1352964177\n",
      "Epoch: 2 \tTraining Loss: 0.5262991095 \tValidation Loss: 2.0602505891\n",
      "Epoch: 3 \tTraining Loss: 0.4078171607 \tValidation Loss: 2.3381000255\n",
      "Epoch: 4 \tTraining Loss: 0.3898055579 \tValidation Loss: 2.3052677455\n",
      "Epoch: 5 \tTraining Loss: 0.3349245880 \tValidation Loss: 2.4184034847\n",
      "Epoch: 6 \tTraining Loss: 0.3379062081 \tValidation Loss: 2.7074172552\n",
      "Epoch: 7 \tTraining Loss: 0.2784483964 \tValidation Loss: 3.3478071636\n",
      "Epoch: 8 \tTraining Loss: 0.2209251752 \tValidation Loss: 3.9208962424\n",
      "Epoch: 9 \tTraining Loss: 0.2660666889 \tValidation Loss: 3.5201507335\n",
      "Epoch: 10 \tTraining Loss: 0.2134527103 \tValidation Loss: 3.1869725726\n",
      "Epoch: 11 \tTraining Loss: 0.2068256898 \tValidation Loss: 3.3299164302\n",
      "Epoch: 12 \tTraining Loss: 0.2134859245 \tValidation Loss: 3.2783644629\n",
      "Epoch: 13 \tTraining Loss: 0.2135366090 \tValidation Loss: 4.1270927419\n",
      "Epoch: 14 \tTraining Loss: 0.1950401570 \tValidation Loss: 3.5645079743\n",
      "Epoch: 15 \tTraining Loss: 0.1943563118 \tValidation Loss: 3.8126724989\n",
      "Epoch: 16 \tTraining Loss: 0.1538693904 \tValidation Loss: 3.3641804597\n",
      "Epoch: 17 \tTraining Loss: 0.2010721046 \tValidation Loss: 3.9948302862\n",
      "Epoch: 18 \tTraining Loss: 0.1484352324 \tValidation Loss: 3.9749924942\n",
      "Epoch: 19 \tTraining Loss: 0.1556411856 \tValidation Loss: 4.4739448485\n",
      "Epoch: 20 \tTraining Loss: 0.1796986091 \tValidation Loss: 3.8154578102\n",
      "Epoch: 21 \tTraining Loss: 0.1273394683 \tValidation Loss: 3.7314118055\n",
      "Epoch: 22 \tTraining Loss: 0.1879765104 \tValidation Loss: 4.4139745851\n",
      "Epoch: 23 \tTraining Loss: 0.1550742467 \tValidation Loss: 4.3159995204\n",
      "Epoch: 24 \tTraining Loss: 0.1588661769 \tValidation Loss: 3.5252252890\n",
      "Epoch: 25 \tTraining Loss: 0.1237773875 \tValidation Loss: 4.0732681659\n",
      "Epoch: 26 \tTraining Loss: 0.1400535142 \tValidation Loss: 4.6021240249\n",
      "Epoch: 27 \tTraining Loss: 0.1523166501 \tValidation Loss: 3.7959388701\n",
      "Epoch: 28 \tTraining Loss: 0.1412147440 \tValidation Loss: 4.1665945277\n",
      "Epoch: 29 \tTraining Loss: 0.1347892387 \tValidation Loss: 5.2143557679\n",
      "Epoch: 30 \tTraining Loss: 0.1352487404 \tValidation Loss: 3.9396303438\n"
     ]
    }
   ],
   "source": [
    "# number of epochs to train the model\n",
    "n_epochs = 30\n",
    "\n",
    "loss_progress = [0]*n_epochs\n",
    "val_progress = [0]*n_epochs\n",
    "\n",
    "\n",
    "for epoch in range(1, n_epochs+1):\n",
    "    # monitor training loss\n",
    "    train_loss = 0.0\n",
    "    val_loss = 0.0\n",
    "\n",
    "    ###################\n",
    "    # train the model #\n",
    "    ###################\n",
    "    for data in dataloader_train:\n",
    "        # no need to flatten images\n",
    "        cur_state, next_state, diff, block_status = data['cur_state'], data['next_state'], data['diff'], data['bs']\n",
    "        \n",
    "        # clear the gradients of all optimized variables\n",
    "        optimizer.zero_grad()\n",
    "        \n",
    "        outputs = model(cur_state.float())\n",
    "        loss = criterion(outputs, block_status)\n",
    "        \n",
    "        # backward pass: compute gradient of the loss with respect to model parameters\n",
    "        loss.backward()\n",
    "        # perform a single optimization step (parameter update)\n",
    "        optimizer.step()\n",
    "\n",
    "        # update running training loss\n",
    "        train_loss += loss.item()*cur_state.size(0) # Multiply by the batch size\n",
    "        \n",
    "    ########################################\n",
    "    # run current model on validation data #\n",
    "    ########################################\n",
    "    with torch.no_grad():\n",
    "        for data in dataloader_test:        \n",
    "            cur_state, next_state, diff, block_status = data['cur_state'], data['next_state'], data['diff'], data['bs']        \n",
    "            # Validation outputs\n",
    "            outputs = model(cur_state.float())\n",
    "            loss = criterion(outputs, block_status)\n",
    "            val_loss += loss.item()*cur_state.size(0) # Multiply by the batch size\n",
    "\n",
    "    # print avg training statistics \n",
    "    train_loss = train_loss/len(dataloader_train)\n",
    "    val_loss = val_loss/len(dataloader_test)\n",
    "\n",
    "    loss_progress[epoch-1] = train_loss\n",
    "    val_progress[epoch-1] = val_loss\n",
    "\n",
    "    print('Epoch: {} \\tTraining Loss: {:.10f} \\tValidation Loss: {:.10f}'.format(\n",
    "        epoch, \n",
    "        train_loss,\n",
    "        val_loss\n",
    "        ))"
   ]
  },
  {
   "cell_type": "code",
   "execution_count": 57,
   "metadata": {},
   "outputs": [
    {
     "data": {
      "text/plain": [
       "[<matplotlib.lines.Line2D at 0x7f8db0531fd0>]"
      ]
     },
     "execution_count": 57,
     "metadata": {},
     "output_type": "execute_result"
    },
    {
     "data": {
      "image/png": "[encoded data removed]",
      "text/plain": [
       "<Figure size 432x288 with 1 Axes>"
      ]
     },
     "metadata": {
      "needs_background": "light"
     },
     "output_type": "display_data"
    }
   ],
   "source": [
    "# Plot validation and training loss with epoch\n",
    "plt.plot(loss_progress)\n",
    "plt.plot(val_progress)"
   ]
  },
  {
   "cell_type": "code",
   "execution_count": null,
   "metadata": {},
   "outputs": [],
   "source": [
    "# Save the model\n",
    "if not os.path.exists(model_dir):\n",
    "    os.mkdir(model_dir)\n",
    "fh = open(os.path.join(model_dir, 'blocking_model_epochs' + str(n_epochs) + '.pickle'), 'wb')\n",
    "pickle.dump([model, dataloader_train, dataloader_test], fh)"
   ]
  },
  {
   "cell_type": "code",
   "execution_count": null,
   "metadata": {},
   "outputs": [],
   "source": [
    "# Load the model\n",
    "LOAD = False # Flag for safety, don't override\n",
    "if LOAD:\n",
    "    fh = open(os.path.join(model_dir, 'blocking_model_epochs' + str(n_epochs) + '.pickle'), 'rb')\n",
    "    model_, dataloader_train_, dataloader_test_ = pickle.load(fh)"
   ]
  },
  {
   "cell_type": "code",
   "execution_count": null,
   "metadata": {},
   "outputs": [],
   "source": [
    "from matplotlib import colors\n",
    "\n",
    "def show_predictions(sample, model):\n",
    "    \"\"\"Visualize a batch of data\n",
    "\n",
    "    Args:\n",
    "        sample (torch.tensor): a batched data example, dimension BATCHSIZE x LAT X LON\n",
    "        model (torch.nn): the convoluational autoencoder model\n",
    "    \"\"\"        \n",
    "    cur_state_batch, next_state_batch, diff_batch = \\\n",
    "            sample_batched['cur_state'], \\\n",
    "            sample_batched['next_state'], \\\n",
    "            sample_batched['diff']\n",
    "    \n",
    "    with torch.no_grad():\n",
    "        outputs_batch = model(cur_state_batch.float())\n",
    "    \n",
    "        cur_state_batch = np.squeeze(cur_state_batch)\n",
    "        next_state_batch = np.squeeze(next_state_batch)\n",
    "        diff_batch = np.squeeze(diff_batch)\n",
    "        outputs_batch = np.squeeze(outputs_batch)\n",
    "        \n",
    "        min_diff = np.min([diff_batch.numpy(), outputs_batch.numpy()])\n",
    "        max_diff = np.max([diff_batch.numpy(), outputs_batch.numpy()])\n",
    "\n",
    "\n",
    "    batch_size = len(cur_state_batch)    \n",
    "    for i in range(batch_size):\n",
    "        ax1 = plt.subplot(4, batch_size, i+1)\n",
    "        ax2 = plt.subplot(4, batch_size, i+1+batch_size)\n",
    "        ax3 = plt.subplot(4, batch_size, i+1+2*batch_size)\n",
    "        ax4 = plt.subplot(4, batch_size, i+1+3*batch_size)\n",
    "\n",
    "        plt.tight_layout()\n",
    "        \n",
    "        ax1.axis('off')\n",
    "        ax2.axis('off')\n",
    "        ax3.axis('off')\n",
    "        ax4.axis('off')\n",
    "        \n",
    "        s1 = ax1.contourf(lon_cord, lat_cord, cur_state_batch[i, :, :], cmap=plt.cm.viridis)\n",
    "        s2 = ax2.contourf(lon_cord, lat_cord, diff_batch[i, :, :], cmap=plt.cm.bwr, vmin=min_diff, vmax=max_diff)\n",
    "        s3 = ax3.contourf(lon_cord, lat_cord, outputs_batch[i, :, :], cmap=plt.cm.bwr, vmin=min_diff, vmax=max_diff)\n",
    "        s4 = ax4.contourf(lon_cord, lat_cord, np.abs(diff_batch[i, :, :] - outputs_batch[i, :, :]), cmap=plt.cm.bwr, vmin=min_diff, vmax=max_diff)\n",
    "\n",
    "\n",
    "    plt.show()\n",
    "    plt.close()"
   ]
  },
  {
   "cell_type": "code",
   "execution_count": null,
   "metadata": {
    "scrolled": false
   },
   "outputs": [],
   "source": [
    "########################################\n",
    "# run current model on validation data #\n",
    "########################################\n",
    "for i, data in enumerate(dataloader_test):        \n",
    "    print(i, \"Cur State\", \"Diff\", \"Pred Diff\", \"Pred Error\")\n",
    "    show_predictions(data, model)\n",
    "    \n",
    "    if i > 4:\n",
    "        break"
   ]
  },
  {
   "cell_type": "code",
   "execution_count": null,
   "metadata": {},
   "outputs": [],
   "source": []
  }
 ],
 "metadata": {
  "kernelspec": {
   "display_name": "Python 3",
   "language": "python",
   "name": "python3"
  },
  "language_info": {
   "codemirror_mode": {
    "name": "ipython",
    "version": 3
   },
   "file_extension": ".py",
   "mimetype": "text/x-python",
   "name": "python",
   "nbconvert_exporter": "python",
   "pygments_lexer": "ipython3",
   "version": "3.7.3"
  }
 },
 "nbformat": 4,
 "nbformat_minor": 2
}
